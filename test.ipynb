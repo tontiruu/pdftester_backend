{
 "cells": [
  {
   "cell_type": "code",
   "execution_count": 20,
   "metadata": {},
   "outputs": [
    {
     "name": "stderr",
     "output_type": "stream",
     "text": [
      "Ignoring wrong pointing object 6 0 (offset 0)\n",
      "Ignoring wrong pointing object 8 0 (offset 0)\n",
      "Ignoring wrong pointing object 10 0 (offset 0)\n",
      "Ignoring wrong pointing object 16 0 (offset 0)\n",
      "Ignoring wrong pointing object 18 0 (offset 0)\n",
      "Ignoring wrong pointing object 20 0 (offset 0)\n",
      "Ignoring wrong pointing object 22 0 (offset 0)\n",
      "Ignoring wrong pointing object 24 0 (offset 0)\n",
      "Ignoring wrong pointing object 29 0 (offset 0)\n",
      "Ignoring wrong pointing object 81 0 (offset 0)\n",
      "Ignoring wrong pointing object 83 0 (offset 0)\n",
      "Ignoring wrong pointing object 85 0 (offset 0)\n",
      "Ignoring wrong pointing object 87 0 (offset 0)\n",
      "Ignoring wrong pointing object 260 0 (offset 0)\n",
      "Ignoring wrong pointing object 463 0 (offset 0)\n",
      "Ignoring wrong pointing object 494 0 (offset 0)\n",
      "Ignoring wrong pointing object 501 0 (offset 0)\n",
      "Ignoring wrong pointing object 924 0 (offset 0)\n",
      "Ignoring wrong pointing object 1142 0 (offset 0)\n",
      "Ignoring wrong pointing object 1147 0 (offset 0)\n",
      "Ignoring wrong pointing object 1158 0 (offset 0)\n",
      "Ignoring wrong pointing object 1246 0 (offset 0)\n",
      "Ignoring wrong pointing object 1248 0 (offset 0)\n",
      "Ignoring wrong pointing object 1250 0 (offset 0)\n",
      "Ignoring wrong pointing object 1255 0 (offset 0)\n",
      "Ignoring wrong pointing object 1257 0 (offset 0)\n"
     ]
    },
    {
     "data": {
      "text/plain": [
       "'想像してみよう•スワヒリ語を話すケニア人と日本語を話す日本人の会話–方法１：文通•それぞれ翻訳家を雇う→手紙をやりとり–方法２：電話•それぞれ翻訳家を雇う⇒翻訳家による同時通訳–方法３：メール•それぞれ翻訳家を雇う⇒メールのやりとり⇒媒体が変わるたびに翻訳家が新しい機器の使い方を覚えなくてはならない⇒「翻訳」と「通信」の仕事を分ける⇒媒体が変わったら，通信の部分だけを変更11'"
      ]
     },
     "execution_count": 20,
     "metadata": {},
     "output_type": "execute_result"
    }
   ],
   "source": [
    "from pypdf import PdfReader\n",
    "\n",
    "reader = PdfReader(\"./computing202402.pdf\")\n",
    "page = reader.pages[10]\n",
    "text = page.extract_text()\n",
    "text"
   ]
  },
  {
   "cell_type": "code",
   "execution_count": 21,
   "metadata": {},
   "outputs": [
    {
     "data": {
      "text/plain": [
       "['ネットワークコンピューティング第2回下位層（第1〜2層）の役割',\n",
       " 'OSI参照モデルOpen Systems Interconnection Model•国際標準化機構（ISO）により1977年に策定•メーカーごとに独自仕様が乱立→ネットワークに必要な機能を整理•７層（レイヤ）を規定–第７層：アプリケーション層–第６層：プレゼンテーション層–第５層：セッション層–第４層：トランスポート層–第３層：ネットワーク層–第２層：データリンク層–第１層：物理層2\\nアプリケーション層\\nプレゼンテーション層\\nセッション層\\nトランスポート層\\nネットワーク層\\nデータリンク層\\n物理層1234567',\n",
       " 'TCP/IP•インターネットで標準的に利用されている通信プロトコル（いろいろなプロトコルの総称）•1970年初期に米国国防高等研究計画局 (DARPA) による研究から登場•4層で構成–第４層：アプリケーション層–第３層：トランスポート層–第２層：ネットワーク層–第１層：ネットワークインターフェイス層\\n3\\nアプリケーション層\\nトランスポート層\\nネットワーク層\\nネットワークインターフェイス層1342',\n",
       " 'OSI参照モデルとTCP/IPの関係•OSI参照モデル：みんなで考えたネットワークプロトコルのあるべき姿（1番は俊足，2番は器用，4番は長距離．．）•実際のプロトコル（巨人など）–OSIプロトコル→普及しなかった–TCP/IP→普及した\\n4\\nアプリケーション層\\nプレゼンテーション層\\nセッション層\\nトランスポート層\\nネットワーク層\\nデータリンク層\\n物理層1234567OSI参照モデルTCP/IP\\nアプリケーション層\\nトランスポート層\\nネットワーク層\\nネットワークインターフェイス層1342',\n",
       " '各階層のやりとりの様子\\n5\\nアプリケーション層\\nプレゼンテーション層\\nセッション層\\nトランスポート層\\nネットワーク層\\nデータリンク層\\n物理層1234567\\nアプリケーション層\\nプレゼンテーション層\\nセッション層\\nトランスポート層\\nネットワーク層\\nデータリンク層\\n物理層1234567\\nネットワーク層\\nデータリンク層\\n物理層123\\nネットワーク層\\nデータリンク層\\n物理層123\\n論理的接続\\n２，３層は，隣のコンピュータとやりとり４層以上は，エンドトゥエンドでやりとり\\n物理的接続コンピュータ1（送信者）コンピュータ4（受信者）コンピュータ2（中継者：ルータ）コンピュータ3（中継者：ルータ）',\n",
       " '階層モデルでの通信の様子\\n6\\nアプリケーション層\\nプレゼンテーション層\\nセッション層\\nトランスポート層\\nネットワーク層\\nデータリンク層\\n物理層1234567\\nアプリケーション層\\nプレゼンテーション層\\nセッション層\\nトランスポート層\\nネットワーク層\\nデータリンク層\\n物理層1234567\\nネットワーク層\\nデータリンク層\\n物理層123\\nネットワーク層\\nデータリンク層\\n物理層123コンピュータ1（送信者）コンピュータ4（受信者）コンピュータ2（中継者：ルータ）コンピュータ3（中継者：ルータ）\\n',\n",
       " 'コンピュータ１（送信者）の動作•各層でヘッダをつけて下の層へ–マトリョーシカ（人形の中に人形．．．）⇒内側になにが入っているか見えない\\n7\\nアプリケーション層\\nプレゼンテーション層\\nセッション層\\nトランスポート層\\nネットワーク層\\nデータリンク層\\n物理層1234567\\nデータ\\n７\\nデータ\\n４\\nデータ\\n３\\nデータ\\n２01101101010100101010101010….\\n',\n",
       " 'コンピュータ２，３（中継者：ルータ）の動作•各層でヘッダを取って，３層に持ち上げられる–３層の情報（TCP/IPの場合，宛先IPアドレス）を参照–自分が宛先の場合：ヘッダを取って４層へ–自分が宛先ではない場合：次の中継者に転送\\n8\\nネットワーク層\\nデータリンク層\\n物理層123\\nデータ\\n３\\nデータ\\n２01101101010100101010101010….\\n',\n",
       " '階層構造のイメージ•受信者はヘッダを外して上の層へ\\n9\\nアプリケーション層\\nプレゼンテーション層\\nセッション層\\nトランスポート層\\nネットワーク層\\nデータリンク層\\n物理層1234567\\nデータ\\n７\\nデータ\\n４\\nデータ\\n３\\nデータ\\n２01101101010100101010101010….\\nデータ\\n',\n",
       " '「層」のイメージ•「層＝ビルにいる人」とイメージしてみよう！–第１層は１階にいる人，第２層は２階にいる人，．．．–それぞれの階の人は違う仕事を担当–同じビルの上下の階では直接やりとり，違うビルの同じ階の人と論理的やりとり（１階だけは物理的やりとり）\\nアプリケーション層\\nプレゼンテーション層\\nセッション層\\nトランスポート層\\nネットワーク層\\nデータリンク層\\n物理層1234567\\n10\\nアプリケーション層\\nプレゼンテーション層\\nセッション層\\nトランスポート層\\nネットワーク層\\nデータリンク層\\n物理層1234567\\n論理的やりとり\\n物理的やりとり',\n",
       " '想像してみよう•スワヒリ語を話すケニア人と日本語を話す日本人の会話–方法１：文通•それぞれ翻訳家を雇う→手紙をやりとり–方法２：電話•それぞれ翻訳家を雇う⇒翻訳家による同時通訳–方法３：メール•それぞれ翻訳家を雇う⇒メールのやりとり⇒媒体が変わるたびに翻訳家が新しい機器の使い方を覚えなくてはならない⇒「翻訳」と「通信」の仕事を分ける⇒媒体が変わったら，通信の部分だけを変更11',\n",
       " 'つまり．．•通信プロトコルの場合–高速な物理層が出てきたら，置き換える–いいデータリンクプロトコルに置き換える–いいトランスポートプロトコルに置き換える⇒それ以外の部分は変更する必要なし\\n12\\nアプリケーション層\\nプレゼンテーション層\\nセッション層\\nトランスポート層\\nネットワーク層\\nデータリンク層\\n物理層1234567',\n",
       " '「層」のイメージ一般的なTCP/IPの機器での実現方法•1, 2層：NICおよびデバイスドライバ•3, 4層：OS（ソフトウェア）•5〜7層：アプリケーションソフトウェア\\n13\\nアプリケーション層\\nプレゼンテーション層\\nセッション層\\nトランスポート層\\nネットワーク層\\nデータリンク層\\n物理層1234567\\nアプリケーション層\\nプレゼンテーション層\\nセッション層\\nトランスポート層\\nネットワーク層\\nデータリンク層\\n物理層1234567\\nネットワーク層\\nデータリンク層\\n物理層123\\nネットワーク層\\nデータリンク層\\n物理層123\\nソフトウェア\\nハードウェアコンピュータ1（送信者）コンピュータ4（受信者）コンピュータ2（中継者：ルータ）コンピュータ3（中継者：ルータ）\\n',\n",
       " '第１層：物理層•通信装置，中継装置，通信回線などのハードウェアで，電気信号や光信号，無線信号に関する取り決め\\n141414\\nアプリケーション層\\nプレゼンテーション層\\nセッション層\\nトランスポート層\\nネットワーク層\\nデータリンク層\\n物理層1234567\\nアプリケーション層\\nプレゼンテーション層\\nセッション層\\nトランスポート層\\nネットワーク層\\nデータリンク層\\n物理層1234567\\nネットワーク層\\nデータリンク層\\n物理層123\\nネットワーク層\\nデータリンク層\\n物理層123\\n',\n",
       " '物理層の役割•物理現象を使って0と1からなるビット列を送信する•物理媒体によって特徴がある–電気信号•UTPケーブル：イーサネットケーブル（最も普及）•同軸ケーブル–光信号•光ファイバ：長距離伝送に適する（海底ケーブルなど）–無線信号（電磁波）•無線LAN•セルラ通信（4G, 5G）150101110011110001010010110111010010．．．',\n",
       " '第２層：データリンク層•直接届く相手（同じネットワーク内）との通信–MACアドレス–フレーム–フレーム同士の衝突への対処\\n161616\\nアプリケーション層\\nプレゼンテーション層\\nセッション層\\nトランスポート層\\nネットワーク層\\nデータリンク層\\n物理層1234567\\nアプリケーション層\\nプレゼンテーション層\\nセッション層\\nトランスポート層\\nネットワーク層\\nデータリンク層\\n物理層1234567\\nネットワーク層\\nデータリンク層\\n物理層123\\nネットワーク層\\nデータリンク層\\n物理層123\\n',\n",
       " 'フレーム•2層では，フレーム単位で送受信–フレーム：ビットの並びをひとまとまりにしたもの•各フレームには送信者と受信者の情報等を記載–ヘッダ：その層でやりとりするのに必要な情報を記載するビット–MACアドレス\\n17\\nデータ\\n送信元MACアドレス\\n宛先MACアドレス\\nフレーム\\n（2層の）ヘッダ',\n",
       " 'MAC（Medium Access Control）アドレス•第２層のアドレス–同じネットワークに接続しているホストを識別するために利用–ネットワークカードのROMに焼き込まれている–４８ビットの２進数•ベンダ識別子24ビット•ベンダ内での識別子24ビット⇒世界に一つしか存在しない！–わかりにくいので16進をコロンで結んで表記•例）78:CA:39:F9:B9:2B18',\n",
       " '19•方法１: 直接接続–メッシュ型ネットワーク\\n非効率！！小規模なネットワーク（LAN）を作るにはどうしたら良いか？\\n',\n",
       " '20•方法2: 1本の線にぶら下がるように接続–バス型ネットワーク小規模なネットワーク（LAN）を作るにはどうしたら良いか？\\n',\n",
       " 'メディアアクセス制御（MAC）プロトコル•ALOHA–ハワイ大学が開発–送信したいときに送信–ACKが返ってこなければランダム時間待って再送•CSMA (Carrier Sense Multiple Access)–他のコンピュータが送信しているか確認（キャリアセンス）•だれも送信していない：ランダム時間待って，だれも送信していなければ送信•だれかが送信している：チャネルが空くまで待って，もう一度キャリアセンス21',\n",
       " '22•方法2-1: 1本の線にぶら下がるように接続–バス型ネットワーク–ハブで接続–衝突回避にMACプロトコルが必要ハブ非効率！！小規模なネットワーク（LAN）を作るにはどうしたら良いか？\\n接続口から入った電気信号を，物理的に他のすべての接続口に流す（1層での処理）\\n',\n",
       " '23•方法2-2: 1本の線にぶら下がるように接続–バス型ネットワーク–スイッチで接続\\n接続されたMACアドレスを学習し，1つの接続口に流す（2層での処理）効率的！！小規模なネットワーク（LAN）を作るにはどうしたら良いか？スイッチ\\n',\n",
       " '情報を転送する３つの機器•どの層で情報を転送するかで違い–ルータ（3層）：IPアドレス–スイッチ（2層）：MACアドレス–ハブ（1層）：物理的に信号を中継するだけ\\n24\\n',\n",
       " '無線LAN•Wi-FiアライアンスのIEEE 802.11が主流–免許が不要な2.4GHz帯と5GHz帯を利用–IEEE 802.11a, 11b, 11g, 11n, 11ac, 11ax(Wi-Fi 6)•アクセスポイントを介したスター型–実質的にはバス型のネットワーク–CSMA/CA（CSMA with Collision Avoidance）を利用–SSID(Service Set Identifier)でアクセスポイントを識別25',\n",
       " 'その他•携帯電話と無線LANはなにが違う？•テザリングとは？•5G, 6Gとは？•Bluetoothとは？•MACアドレスのランダム化\\n26']"
      ]
     },
     "execution_count": 21,
     "metadata": {},
     "output_type": "execute_result"
    }
   ],
   "source": [
    "texts = []\n",
    "for page in reader.pages:\n",
    "  texts.append(page.extract_text())\n",
    "texts\n",
    "  "
   ]
  },
  {
   "cell_type": "code",
   "execution_count": 25,
   "metadata": {},
   "outputs": [],
   "source": [
    "pre_pronpt = \"\"\"\n",
    "次のデータはPDF形式の講義資料からテキストデータを抽出したものです。\n",
    "テスト対策をしたいので、このテキストデータを元に幾つか問題と答えの組み合わせを作成して欲しいです！\n",
    "20問ほどお願いします!\n",
    "\n",
    "\n",
    "\n",
    "\"\"\"\n",
    "\n",
    "text_data = \" \".join(texts)\n",
    "\n",
    "file = open(\"output.txt\",\"w\")\n",
    "file.write(pre_pronpt + text_data)\n",
    "file.close()\n"
   ]
  },
  {
   "cell_type": "markdown",
   "metadata": {},
   "source": [
    "OpenAIのテスト"
   ]
  },
  {
   "cell_type": "code",
   "execution_count": 47,
   "metadata": {},
   "outputs": [],
   "source": [
    "from openai import OpenAI\n",
    "import os\n",
    "from dotenv import load_dotenv\n",
    "\n",
    "load_dotenv()\n",
    "\n",
    "openai_key = os.environ[\"OPENAI_API_KEY\"]\n",
    "\n",
    "\n",
    "client = OpenAI(api_key=openai_key)\n",
    "\n",
    "completion = client.chat.completions.create(\n",
    "  model=\"gpt-3.5-turbo\",\n",
    "  messages=[\n",
    "    {\"role\": \"system\", \"content\": \"\"\"\n",
    "     次のデータはPDF形式の講義資料からテキストデータを抽出したものです。\n",
    "     テスト対策をしたいので、このテキストデータを元に幾つか問題と答えの組み合わせを作成して欲しいです！\n",
    "     30問ほどお願いします!\n",
    "     \n",
    "     出力してもらった結果はPythonで読み込みたいので、「問題」「答え」の2つのカラムを持つCSVデータを変えして欲しいです!\n",
    "     CSVデータだけを返すようにしてください!\n",
    "     \n",
    "     \"\"\"},\n",
    "    {\"role\": \"user\", \"content\": text_data}\n",
    "  ]\n",
    ")\n",
    "\n",
    "response = completion.choices[0].message"
   ]
  },
  {
   "cell_type": "code",
   "execution_count": null,
   "metadata": {},
   "outputs": [],
   "source": []
  },
  {
   "cell_type": "code",
   "execution_count": 1,
   "metadata": {},
   "outputs": [
    {
     "name": "stderr",
     "output_type": "stream",
     "text": [
      "Ignoring wrong pointing object 6 0 (offset 0)\n",
      "Ignoring wrong pointing object 8 0 (offset 0)\n",
      "Ignoring wrong pointing object 10 0 (offset 0)\n",
      "Ignoring wrong pointing object 16 0 (offset 0)\n",
      "Ignoring wrong pointing object 18 0 (offset 0)\n",
      "Ignoring wrong pointing object 20 0 (offset 0)\n",
      "Ignoring wrong pointing object 22 0 (offset 0)\n",
      "Ignoring wrong pointing object 24 0 (offset 0)\n",
      "Ignoring wrong pointing object 29 0 (offset 0)\n",
      "Ignoring wrong pointing object 81 0 (offset 0)\n",
      "Ignoring wrong pointing object 83 0 (offset 0)\n",
      "Ignoring wrong pointing object 85 0 (offset 0)\n",
      "Ignoring wrong pointing object 87 0 (offset 0)\n",
      "Ignoring wrong pointing object 260 0 (offset 0)\n",
      "Ignoring wrong pointing object 463 0 (offset 0)\n",
      "Ignoring wrong pointing object 494 0 (offset 0)\n",
      "Ignoring wrong pointing object 501 0 (offset 0)\n",
      "Ignoring wrong pointing object 924 0 (offset 0)\n",
      "Ignoring wrong pointing object 1142 0 (offset 0)\n",
      "Ignoring wrong pointing object 1147 0 (offset 0)\n",
      "Ignoring wrong pointing object 1158 0 (offset 0)\n",
      "Ignoring wrong pointing object 1246 0 (offset 0)\n",
      "Ignoring wrong pointing object 1248 0 (offset 0)\n"
     ]
    },
    {
     "name": "stderr",
     "output_type": "stream",
     "text": [
      "Ignoring wrong pointing object 1250 0 (offset 0)\n",
      "Ignoring wrong pointing object 1255 0 (offset 0)\n",
      "Ignoring wrong pointing object 1257 0 (offset 0)\n"
     ]
    },
    {
     "name": "stdout",
     "output_type": "stream",
     "text": [
      "<pypdf._reader.PdfReader object at 0x105a167d0>\n"
     ]
    }
   ],
   "source": [
    "from pypdf import PdfReader\n",
    "reader = PdfReader(\"./computing202402.pdf\")\n",
    "print(reader)"
   ]
  },
  {
   "cell_type": "code",
   "execution_count": 5,
   "metadata": {},
   "outputs": [
    {
     "ename": "NameError",
     "evalue": "name 'response' is not defined",
     "output_type": "error",
     "traceback": [
      "\u001b[0;31m---------------------------------------------------------------------------\u001b[0m",
      "\u001b[0;31mNameError\u001b[0m                                 Traceback (most recent call last)",
      "Cell \u001b[0;32mIn[5], line 8\u001b[0m\n\u001b[1;32m      6\u001b[0m path \u001b[38;5;241m=\u001b[39m \u001b[38;5;124mf\u001b[39m\u001b[38;5;124m\"\u001b[39m\u001b[38;5;124m./output_csv/\u001b[39m\u001b[38;5;132;01m{\u001b[39;00mnow_time\u001b[38;5;132;01m}\u001b[39;00m\u001b[38;5;124m.csv\u001b[39m\u001b[38;5;124m\"\u001b[39m\n\u001b[1;32m      7\u001b[0m file \u001b[38;5;241m=\u001b[39m \u001b[38;5;28mopen\u001b[39m(path,\u001b[38;5;124m\"\u001b[39m\u001b[38;5;124mw\u001b[39m\u001b[38;5;124m\"\u001b[39m)\n\u001b[0;32m----> 8\u001b[0m file\u001b[38;5;241m.\u001b[39mwrite(\u001b[43mresponse\u001b[49m\u001b[38;5;241m.\u001b[39mcontent)\n\u001b[1;32m      9\u001b[0m file\u001b[38;5;241m.\u001b[39mclose()\n\u001b[1;32m     11\u001b[0m pd\u001b[38;5;241m.\u001b[39mread_csv(path)\n",
      "\u001b[0;31mNameError\u001b[0m: name 'response' is not defined"
     ]
    }
   ],
   "source": [
    "import time\n",
    "import pandas as pd\n",
    "\n",
    "\n",
    "now_time = time.time()\n",
    "path = f\"./output_csv/{now_time}.csv\"\n",
    "file = open(path,\"w\")\n",
    "file.write(response.content)\n",
    "file.close()\n",
    "\n",
    "pd.read_csv(path)"
   ]
  },
  {
   "cell_type": "code",
   "execution_count": 4,
   "metadata": {},
   "outputs": [
    {
     "data": {
      "text/plain": [
       "'問題;答え\\n深澤佑介が上智大学大学院で准教授に就任したのは何年か？;2023年\\n深澤佑介がNTTドコモでデータサイエンスの研究開発を行っていた期間は？;2004〜2023年3月\\n深澤佑介が東大院で情報推薦の研究を行っていた期間は？;2008年〜2011年\\n深澤佑介が秘書室課長を務めたのは何年からか？;2020年7月\\n深澤佑介がデータプラットフォーム部担当部長を務めたのは何年からか？;2022年7月\\n深澤佑介の研究テーマは何か？;異種混合の人間行動データの統合的処理と解析\\nパーソナライゼーションに関する研究成果の一例は？;スマホお困りごと予測\\n時空間データマイニングに関する研究開発の一例は？;タクシー需要予測\\n教師あり学習のデータ活用事例の一例は？;解約予兆分析\\n教師なし学習のデータ活用事例の一例は？;顧客クラスタリング\\n時系列分析のデータ活用事例の一例は？;売上予測\\n自然言語処理のデータ活用事例の一例は？;アンケート分析\\n成績評価の内訳でリアクションペーパーの割合は？;50.0%\\nAIの究極の難問の一つは？;小さくて遅い脳が大きくて複雑な世界を理解し、予測し、操作できるのか\\nAIの歴史における第1次AIブームの期間は？;1950年代\\nAIの歴史における第2次AIブームの期間は？;1980年代\\nAIの歴史における第3次AIブームの期間は？;2000年代\\nAIの歴史における第4次AIブームの期間は？;2010年代\\n深層学習が物体の認識率を競うILSVRCで10%改善達成した年は？;2012年\\nAlphaGoがプロ棋士に勝利した年は？;2016年\\nAIの産業応用の4つの波の第1波は何か？;インターネットAI\\nAIの産業応用の4つの波の第2波は何か？;ビジネスAI\\nAIの産業応用の4つの波の第3波は何か？;知覚AI\\nAIの産業応用の4つの波の第4波は何か？;自律AI\\n生成AIの一例として、オリジナルの音楽作品を作成するために学習するものは？;音楽のメロディやリズム、楽器の演奏スタイル\\n生成AIの一例として、仮想の都市や風景を生成するために学習するものは？;建物や道路の配置、緑地の配置\\n生成AIの一例として、新しいレシピを作成するために学習するものは？;料理のレシピデータ（食材や調理手順）\\n生成AIの一例として、新しい有効な化合物を生成するために学習するものは？;分子の構造や性質のデータセット\\n```'"
      ]
     },
     "execution_count": 4,
     "metadata": {},
     "output_type": "execute_result"
    }
   ],
   "source": [
    "file = open(\"database_csv/a2b64e05-e77e-4645-ae24-33399353ab0c.csv\",\"r\")\n",
    "text_csv = file.read()\n",
    "file.close()\n",
    "pre_sentence = text_csv.split(\"問題;答え\")[0]\n",
    "text_csv = text_csv[len(pre_sentence):]\n",
    "\n",
    "text_csv"
   ]
  },
  {
   "cell_type": "code",
   "execution_count": 12,
   "metadata": {},
   "outputs": [
    {
     "data": {
      "text/plain": [
       "'eb6c330f-c519-4477-8fd2-47cc026c0d2a'"
      ]
     },
     "execution_count": 12,
     "metadata": {},
     "output_type": "execute_result"
    }
   ],
   "source": [
    "from uuid import uuid4\n",
    "a = uuid4()\n",
    "str(a)"
   ]
  },
  {
   "cell_type": "code",
   "execution_count": 16,
   "metadata": {},
   "outputs": [],
   "source": [
    "from openai import OpenAI\n",
    "import os\n",
    "from dotenv import load_dotenv\n",
    "from pypdf import PdfReader\n",
    "\n",
    "reader = PdfReader(\"./angou.pdf\")\n",
    "\n",
    "\n",
    "texts = []\n",
    "for page in reader.pages:\n",
    "  texts.append(page.extract_text())\n",
    "\n",
    "\n",
    "\n",
    "text_data = \" \".join(texts)\n",
    "  \n",
    "\n",
    "load_dotenv()\n",
    "\n",
    "openai_key = os.environ[\"OPENAI_API_KEY\"]\n",
    "\n",
    "\n",
    "client = OpenAI(api_key=openai_key)\n",
    "\n",
    "completion = client.chat.completions.create(\n",
    "  model=\"gpt-4o\",\n",
    "  messages=[\n",
    "    {\"role\": \"system\", \"content\": f\"\"\"\n",
    "     次のデータはPDF形式の講義資料からテキストデータを抽出したものです。\n",
    "     この講義資料をもとに、質問に対する回答を解説とともに教えてください！\n",
    "\n",
    "     {text_data}\n",
    "\n",
    "     \"\"\"},\n",
    "    {\"role\": \"user\", \"content\": \"「現代の計算機の能力を考慮すると, RSA暗号における公開鍵・秘密鍵の長さは 2048 ～ 4096 ビット程度にすれば安全である. 従って, 鍵の長さを十分に大きくとれば, RSA署名は安全である..丸かバツか」\"}\n",
    "  ]\n",
    ")\n",
    "\n",
    "response = completion.choices[0].message"
   ]
  },
  {
   "cell_type": "markdown",
   "metadata": {},
   "source": [
    "\n"
   ]
  },
  {
   "cell_type": "code",
   "execution_count": 17,
   "metadata": {},
   "outputs": [
    {
     "data": {
      "text/plain": [
       "\"ChatCompletionMessage(content='○ 正解\\\\n\\\\nRSA署名では、メッセージに対して秘密鍵で署名を行い、公開鍵で検証を行うことで改ざんや成りすましを防ぐことができます。しかし、質問のようにRSA署名の検証用の公開鍵が改ざんされてしまうと、本来の公開鍵であるKeの改ざんを検出することができなくなります。\\\\n\\\\nこれは、RSA署名の信頼性が公開鍵の信頼性に依存しているためであり、公開鍵の安全な保管が重要であることを示しています。RSA署名の検証用の公開鍵も同様にしっかりと保護されていなければ、署名の信頼性が損なわれる可能性があることを意味しています。', role='assistant', function_call=None, tool_calls=None)\""
      ]
     },
     "execution_count": 17,
     "metadata": {},
     "output_type": "execute_result"
    }
   ],
   "source": [
    "str(response)"
   ]
  },
  {
   "cell_type": "code",
   "execution_count": null,
   "metadata": {},
   "outputs": [],
   "source": []
  }
 ],
 "metadata": {
  "kernelspec": {
   "display_name": "Python 3",
   "language": "python",
   "name": "python3"
  },
  "language_info": {
   "codemirror_mode": {
    "name": "ipython",
    "version": 3
   },
   "file_extension": ".py",
   "mimetype": "text/x-python",
   "name": "python",
   "nbconvert_exporter": "python",
   "pygments_lexer": "ipython3",
   "version": "3.11.7"
  }
 },
 "nbformat": 4,
 "nbformat_minor": 2
}
